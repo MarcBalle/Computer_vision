{
 "cells": [
  {
   "cell_type": "markdown",
   "metadata": {},
   "source": [
    "# Clasificación de imágenes empleando el dataset Fashion MNIST\n",
    "\n",
    "### Marc Balle Sánchez"
   ]
  },
  {
   "cell_type": "markdown",
   "metadata": {},
   "source": [
    "### Introducción\n",
    "\n",
    "Durante la realización de esta práctica se pretende combinar herramientas clásicas de la visión por computador con algoritmos de _machine learning_. Así pues, existen dos partes bien diferenciadas: \n",
    "* Una primera parte donde se calculan las matrices GLCM ( _Gray level co-occurrence matrix_ ) y los histogramas HOG ( _histogram of gradients_ ) de cada imagen. Además, a partir de las GLCM se extraen medidas de texturas. En particular, todas aquellas que permite la librería ```skimage```. \n",
    "* Una segunda parte en la cual se emplean cada uno de los tres conjuntos de caratcerísticas para entrenar un modelo KNN ( _K Nearest Neighbours_ ) y posteriormente realizar una clasificación sobre imágenes nuevas. \n",
    "\n",
    "Para realizar todo el ejercicios se hace uso del dataset Fashion MNIST proporcionado por Zalando, el cual consta de unas 70000 imágenes (60000 de entrenamiento y 10000 de test). En cada imagen aparece un artículo de moda perteneciente a una de las 10 clases posibles de estos. Para la realización de esta práctica se ha limitado el número de clases a 5, las cuales se expondrán en el desarrollo de la práctica. "
   ]
  },
  {
   "cell_type": "markdown",
   "metadata": {},
   "source": [
    "### Comienzo de la práctica"
   ]
  },
  {
   "cell_type": "markdown",
   "metadata": {},
   "source": [
    "Primero de todo se importan aquellas librerías necesarias para la realización del ejericio. "
   ]
  },
  {
   "cell_type": "code",
   "execution_count": 1,
   "metadata": {},
   "outputs": [],
   "source": [
    "import cv2 \n",
    "import os\n",
    "import gzip\n",
    "import copy \n",
    "import random\n",
    "import numpy as np \n",
    "import matplotlib.pyplot as plt \n",
    "from skimage.feature.texture import greycomatrix, greycoprops"
   ]
  },
  {
   "cell_type": "markdown",
   "metadata": {},
   "source": [
    "A continuación se define la función que permitirá cargar el conjunto de entrenamiento y de test directamente del repositorio clonado de Zalando. Esta función ya se incluía en el archivo ```utils/mnis_reader.py``` del mismo repositorio. "
   ]
  },
  {
   "cell_type": "code",
   "execution_count": 2,
   "metadata": {},
   "outputs": [],
   "source": [
    "def load_mnist(path, kind='train'):\n",
    "\n",
    "    \"\"\"Load MNIST data from `path`\"\"\"\n",
    "    labels_path = os.path.join(path,\n",
    "                               '%s-labels-idx1-ubyte.gz'\n",
    "                               % kind)\n",
    "    images_path = os.path.join(path,\n",
    "                               '%s-images-idx3-ubyte.gz'\n",
    "                               % kind)\n",
    "\n",
    "    with gzip.open(labels_path, 'rb') as lbpath:\n",
    "        labels = np.frombuffer(lbpath.read(), dtype=np.uint8,\n",
    "                               offset=8)\n",
    "\n",
    "    with gzip.open(images_path, 'rb') as imgpath:\n",
    "        images = np.frombuffer(imgpath.read(), dtype=np.uint8,\n",
    "                               offset=16).reshape(len(labels), 784)\n",
    "\n",
    "    return images, labels"
   ]
  },
  {
   "cell_type": "markdown",
   "metadata": {},
   "source": [
    "Se cargan el conjunto de entrenamiento y de test. Además, se guardan las etiquetas de cada imagen. "
   ]
  },
  {
   "cell_type": "code",
   "execution_count": 3,
   "metadata": {},
   "outputs": [],
   "source": [
    "path = '../data/fashion'\n",
    "\n",
    "X_train_orig, y_train_orig = load_mnist(path, kind='train')\n",
    "X_test_orig, y_test_orig = load_mnist(path, kind = 't10k')"
   ]
  },
  {
   "cell_type": "markdown",
   "metadata": {},
   "source": [
    "Se comprueba el formato en el que las imágenes son cargadas. Como puede observarse, el conjunto de entrenamiento consta de 60000 filas (una por imagen) y 784 columnas. Estas columnas las conforman cada unos de los píxeles de la imagen dispuestos como un vector fila. Se sabe que es así ya que, según la información que proporciona Zalando en el repositorio original del dataset, cada imagen tiene un tamaño 28x28, lo que suma un total de 784 píxeles por imagen. Como puede comoprobarse, sucede lo mismo con el conjunto de test."
   ]
  },
  {
   "cell_type": "code",
   "execution_count": 6,
   "metadata": {},
   "outputs": [
    {
     "data": {
      "text/plain": [
       "((60000, 28, 28), (10000, 28, 28))"
      ]
     },
     "execution_count": 6,
     "metadata": {},
     "output_type": "execute_result"
    }
   ],
   "source": [
    "X_train_orig.shape, X_test_orig.shape"
   ]
  },
  {
   "cell_type": "markdown",
   "metadata": {},
   "source": [
    "Así pues, se supone en un principio que las imágenes se encuentran ordenadas en cada fila. Es decir, cada 28 píxeles se tiene una fila de cada imagen. Bajo este supuesto, se reordenan las matrices iniciales para obtener las imágenes en un formato correcto y de fácil acceso. Se propone así matriz 3D donde cada capa constituye una imagen 28x28."
   ]
  },
  {
   "cell_type": "code",
   "execution_count": 7,
   "metadata": {},
   "outputs": [],
   "source": [
    "width = 28\n",
    "height = 28\n",
    "\n",
    "X_train_orig = np.reshape(X_train_orig, (60000, width, height))\n",
    "X_test_orig = np.reshape(X_test_orig, (10000, width, height))"
   ]
  },
  {
   "cell_type": "markdown",
   "metadata": {},
   "source": [
    "Se realiza una copia de cada uno de los conjuntos y sus etiquetas. La razón de ello es que más adelante se emplea la función ```graycomatrix``` para obtener la matriz GLCM, la cual requiere realizar algunas modificaciones sobre el conjunto de imágenes pasado. No obstante las imágenes iniciales no permiter la escritura, solo la lectura. Es por ello que se realizan unas copias, para evitar dicho error. "
   ]
  },
  {
   "cell_type": "code",
   "execution_count": 8,
   "metadata": {},
   "outputs": [],
   "source": [
    "X_train_total = copy.deepcopy(X_train_orig)\n",
    "X_test_total = copy.deepcopy(X_test_orig)\n",
    "\n",
    "y_train_total = copy.deepcopy(y_train_orig)\n",
    "y_test_total = copy.deepcopy(y_test_orig)"
   ]
  },
  {
   "cell_type": "markdown",
   "metadata": {},
   "source": [
    "Se comprueba por si acaso que no ha habido ninguna alteración en el formato"
   ]
  },
  {
   "cell_type": "code",
   "execution_count": 9,
   "metadata": {},
   "outputs": [
    {
     "data": {
      "text/plain": [
       "((60000, 28, 28), (10000, 28, 28))"
      ]
     },
     "execution_count": 9,
     "metadata": {},
     "output_type": "execute_result"
    }
   ],
   "source": [
    "X_train_total.shape, X_test_total.shape"
   ]
  },
  {
   "cell_type": "markdown",
   "metadata": {},
   "source": [
    "A continuación se define la función ```create_set``` que permite crear conjuntos de entrenamiento y test reducidos y balanceados. Como ya se ha comentado, en esta práctica solos se emplearán 5 clases de artículos. Además se requiere que para cada clase haya el mismo número de imágenes dentro del conjunto creado. Dicho número se especifica con el argumento ```num```. \n",
    "\n",
    "Así pues, la selección de artículos se realiza de tal forma que se intenta escoger aquellos que no presenten grandes similitudes y resulta más fácil la tarea clasificatoria. Respecto a esto se han realizado dos pruebas: \n",
    "\n",
    "* Una primera prueba donde se ecogieron los 5 primeros artículos seleccionados. \n",
    "* Una segunda prueba donde se han seleccionado los artículos que se muestran en la función. \n",
    "\n",
    "Esta segunda selección sigue el criterio de intentas mantener la semejanza entre artículos baja, a diferencia de la primera que fue una selección arbitraria. No obstante, cabe mencionar que no se han observado grandes mejoras en los resultados. "
   ]
  },
  {
   "cell_type": "code",
   "execution_count": 11,
   "metadata": {},
   "outputs": [],
   "source": [
    "def create_set (X,labels, num):\n",
    "    \n",
    "    class1 = [a for a in range(0,labels.shape[0]) if labels[a] == 0] # T-shirt/top\n",
    "    class2 = [b for b in range(0,labels.shape[0]) if labels[b] == 1] # Trouser\n",
    "    class3 = [c for c in range(0,labels.shape[0]) if labels[c] == 3] # Dress\n",
    "    class4 = [d for d in range(0,labels.shape[0]) if labels[d] == 5] # Sandal\n",
    "    class5 = [f for f in range(0,labels.shape[0]) if labels[f] == 7] # Sneaker \n",
    "    \n",
    "    class1_red = random.sample(class1, num)\n",
    "    class2_red = random.sample(class2, num)\n",
    "    class3_red = random.sample(class3, num)\n",
    "    class4_red = random.sample(class4, num)\n",
    "    class5_red = random.sample(class5, num)\n",
    "    \n",
    "    total = np.concatenate((class1_red,class2_red, class3_red, class4_red, class5_red))\n",
    "    total = np.sort(total) #ordenamos en orden ascendente\n",
    "    \n",
    "    X_reduced = X[total]\n",
    "    y_reduced = labels[total]\n",
    "    \n",
    "    return X_reduced, y_reduced"
   ]
  },
  {
   "cell_type": "markdown",
   "metadata": {},
   "source": [
    "Se forman los conjuntos de entrenamiento y de test. Para el conjunto de entrenamiento se seleccionan 200 imágenes por clase, mientras que para el de test 40. Así pues, la proporción entrenamiento-test sobre el total de imágenes escogidas es aporoximadamente 83%-17%, respectivamente. "
   ]
  },
  {
   "cell_type": "code",
   "execution_count": 12,
   "metadata": {},
   "outputs": [],
   "source": [
    "X_train, y_train = create_set(X_train_total, y_train_total, 200) # Un 83% de train\n",
    "X_test, y_test = create_set(X_test_total, y_test_total, 40) # Un 17 % de test"
   ]
  },
  {
   "cell_type": "markdown",
   "metadata": {},
   "source": [
    "Se comprueba que la selección de los conjuntos sea coherente con las dimensiones deseadas. "
   ]
  },
  {
   "cell_type": "code",
   "execution_count": 14,
   "metadata": {
    "scrolled": true
   },
   "outputs": [
    {
     "name": "stdout",
     "output_type": "stream",
     "text": [
      "Tamaño X train:  (1000, 28, 28) \n",
      " Tamaño X test:  (200, 28, 28)\n"
     ]
    }
   ],
   "source": [
    "print('Tamaño X train: ', X_train.shape,'\\n',\n",
    "      'Tamaño X test: ', X_test.shape)"
   ]
  },
  {
   "cell_type": "markdown",
   "metadata": {},
   "source": [
    "A continuación se realiza una pequeña prueba visual para comprobar que las etiquetas y las imágenes coinciden y no se ha perdido el formato. Esto se realiza para ambos conjuntos."
   ]
  },
  {
   "cell_type": "code",
   "execution_count": 15,
   "metadata": {
    "scrolled": false
   },
   "outputs": [
    {
     "data": {
      "image/png": "[encoded data removed]",
      "text/plain": [
       "<Figure size 576x576 with 10 Axes>"
      ]
     },
     "metadata": {
      "needs_background": "light"
     },
     "output_type": "display_data"
    }
   ],
   "source": [
    "fig, ax = plt.subplots(1,10, figsize = (8,8))\n",
    "\n",
    "for i in range(0,10): \n",
    "    ax[i].imshow(X_train[i], cmap = 'gray')\n",
    "    ax[i].set_title(str(y_train[i]))\n",
    "    "
   ]
  },
  {
   "cell_type": "code",
   "execution_count": 16,
   "metadata": {
    "scrolled": true
   },
   "outputs": [
    {
     "data": {
      "image/png": "[encoded data removed]",
      "text/plain": [
       "<Figure size 576x576 with 10 Axes>"
      ]
     },
     "metadata": {
      "needs_background": "light"
     },
     "output_type": "display_data"
    }
   ],
   "source": [
    "fig2, ax2 = plt.subplots(1,10, figsize = (8,8))\n",
    "\n",
    "for j in range(0,10): \n",
    "    ax2[j].imshow(X_test[j], cmap = 'gray')\n",
    "    ax2[j].set_title(str(y_test[j]))"
   ]
  },
  {
   "cell_type": "markdown",
   "metadata": {},
   "source": [
    "Efectivamente existe concordancia entre las matrices de imágenes y los vectores que almancenan sus etiquetas. De esta forma, ya se disponen de los conjuntos de datos en el formato adecuado, así que puede procederse a la extracción de características. "
   ]
  },
  {
   "cell_type": "markdown",
   "metadata": {},
   "source": [
    "## Matrices GLCM y medidas de textura"
   ]
  },
  {
   "cell_type": "markdown",
   "metadata": {},
   "source": [
    "#### ¿Qué es la matriz GLCM? \n",
    "\n",
    "La matriz GLCM almacena la información sobre la frecuencia con la que se dan ciertas combinaciones de niveles de gris en una imagen o ventana de esta. Para crear la matriz GLCM deben especificarse ciertos aspectos: \n",
    "* Distancia a la cual se quieren observar las correspondencias. Esto es, si se quieren considerar píxeles vecinos, o aquellos que están a una distancia superior a 1 píxel. \n",
    "* Dirección en la cual analizar las correspondencias. Por ejemplo, pueden considerarse únicamente relaciones entre un píxel y aquel situado a una distancia X a su derecha, o abajo, etc. \n",
    "* Simetría y normalización. Una vez obtenida la matriz GLCM, esta puede hacerse simétrica sumándole su traspuesta. Además, si queremos que esta tenga forma de distribución de probabilidad, se puede normaliar cada celda dividiendo su valor por la suma de valores totales de la matriz. \n",
    "\n",
    "Una vez se ha obtenido la matriz, se pueden obtener diferentes medias de textura a partir de ella. Básicamente, toda estas consisten en medias ponderadas de los valores de la matriz o histograma. "
   ]
  },
  {
   "cell_type": "markdown",
   "metadata": {},
   "source": [
    "Una vez explicado brevemente qué es la matriz GLCM, se procede a calcularla por cada imagen, así como la obtención de las medidas de texturas que ofrece la librería ```skimage``` a partir de dicha matriz. \n",
    "\n",
    "Para la obtención de la matriz GLCM se hace uso de ```greycomatrix```. En su llamada se especifican los aspectos anteriormente mencionados. En este caso solo se comprueba el píxel de la derecha (ángulo 0 radianes) y el más cercano (distancia 1 píxel) en cada uno de los píxeles de la imagen (menos en los que conforman el borde derecho). Además se obtiene la matriz simétrica y normalizada por cada imagen. \n",
    "\n",
    "Una vez obtenida la matriz GLCM, se hace uso de la función ```greycoprops``` para obtener las distintas medidas de textura. \n",
    "\n",
    "Todos estos resultados se almacenan en matrices. Las matrices GLCM tendrán dimensión 256x256 (todos los valores de gris posibles en imágenes uint8). Estas se van a amontonar en matrices 3D donde cada capa conforme la matriz GLCM de una imagen.  Las medidas de textura se almacenarán en columnas (una por medida) y por filas (una por imagen). \n",
    "\n",
    "Cabe mencionar que la función ```graycomatrix``` permite evaluar las combinaciones de grises en distintas distancias y direcciones. Sin embargo, por cuestiones de tiempo y simplicidad, solo se optan por los valores ya mencionados. \n",
    "\n",
    "Finalmente se destaca que, al tratarse de imágenes pequeñas, solo se obtiene una matriz GLCM por imagen, y por ende solo se puede extraer un valor por medida de textura por imagen. Así que cada imagen quedará representada por una matriz GLCM y por 6 medidas de textura. Posteriormente se discutirá la repercusión que esto puede tener en la clasificación. "
   ]
  },
  {
   "cell_type": "markdown",
   "metadata": {},
   "source": [
    "#### Conjunto de entrenamiento "
   ]
  },
  {
   "cell_type": "code",
   "execution_count": 22,
   "metadata": {},
   "outputs": [],
   "source": [
    "train_size = X_train.shape[0]\n",
    "\n",
    "glcm_train = np.zeros((train_size, 256, 256)) # matrices GLCM agrupadas\n",
    "glcm_params_train = np.zeros((train_size, 6)) # 6 medidas de textura por imagen\n",
    "i = 0\n",
    "\n",
    "for img in X_train:\n",
    "    glcm = greycomatrix(img, distances = [1], angles = [0], symmetric= True, normed = True) #glcm para toda la imagen\n",
    "    \n",
    "     # Se guarda la glcm de la imagen. Se eliminan las dos dimensiones restantes ya que corresponden\n",
    "     # al número de ángulos y distancias evaluados. En este caso, al ser los dos 1, no hace falta incluirlos. \n",
    "    glcm_train[i] = np.reshape(glcm, (glcm.shape[0:2])) \n",
    "    \n",
    "    glcm_params_train[i, 0] = np.reshape(greycoprops(glcm, 'contrast'), (1,)) \n",
    "    glcm_params_train[i, 1] = np.reshape(greycoprops(glcm, 'homogeneity'), (1,))\n",
    "    glcm_params_train[i, 2] = np.reshape(greycoprops(glcm, 'energy'), (1,))\n",
    "    glcm_params_train[i, 3] = np.reshape(greycoprops(glcm, 'correlation'), (1,))  \n",
    "    glcm_params_train[i, 4] = np.reshape(greycoprops(glcm, 'dissimilarity'), (1,))\n",
    "    glcm_params_train[i, 5] = np.reshape(greycoprops(glcm, 'ASM'), (1,))\n",
    "    \n",
    "    \n",
    "\n",
    "    i+=1"
   ]
  },
  {
   "cell_type": "markdown",
   "metadata": {},
   "source": [
    "#### Conjunto de test"
   ]
  },
  {
   "cell_type": "code",
   "execution_count": 23,
   "metadata": {},
   "outputs": [],
   "source": [
    "test_size = X_test.shape[0]\n",
    "\n",
    "glcm_test = np.zeros((test_size, 256, 256)) # matrices GLCM agrupadas\n",
    "glcm_params_test = np.zeros((test_size, 6)) # 4 medidas de la GLCM (iniciales) + 2 extra\n",
    "i = 0\n",
    "\n",
    "for img_t in X_test:\n",
    "    glcm_t = greycomatrix(img_t, distances = [1], angles = [0], symmetric= True, normed = True) #glcm para toda la imagen\n",
    "    \n",
    "    glcm_test[i] = np.reshape(glcm_t, (glcm_t.shape[0:2])) # se guarda la glcm de la imagen\n",
    "    \n",
    "    glcm_params_test[i, 0] = np.reshape(greycoprops(glcm_t, 'contrast'), (1,)) #quizás haga falta un reshape a 1,\n",
    "    glcm_params_test[i, 1] = np.reshape(greycoprops(glcm_t, 'homogeneity'), (1,))\n",
    "    glcm_params_test[i, 2] = np.reshape(greycoprops(glcm_t, 'energy'), (1,))\n",
    "    glcm_params_test[i, 3] = np.reshape(greycoprops(glcm_t, 'correlation'), (1,))\n",
    "\n",
    "    glcm_params_train[i, 4] = np.reshape(greycoprops(glcm_t, 'dissimilarity'), (1,))\n",
    "    glcm_params_train[i, 5] = np.reshape(greycoprops(glcm_t, 'ASM'), (1,))\n",
    "    \n",
    "    i+=1\n"
   ]
  },
  {
   "cell_type": "markdown",
   "metadata": {},
   "source": [
    "## HOG"
   ]
  },
  {
   "cell_type": "markdown",
   "metadata": {},
   "source": [
    "#### ¿Qué es el HOG?\n",
    "\n",
    "De forma muy breve, el HOG ( _histogram of oriented gradients_ ) es un vector que almacena información sobre los gradientes y direcciones de estos en diferentes subconjuntos de una imagen. A continuación se comentan algunos aspectos para comprender la implementación del HOG en esta práctica: \n",
    "\n",
    "* El vector o histograma resultante del HOG se calcula sobre ventanas de la imagen. El tamaño de estas ventanas viene definido por el parámetro ```winSize```. De nuevo, al tratarse de imágenes pequeñas, la ventana es toda la imagen. En este punto surgió una duda, y es que algunas fuentes recomiendan que el tamaño de la ventana guarde una relación 1:2 en cuanto a ancho y alto. Sin embargo, aquí eso no se cumple, y se desconocen cuáles pueden ser los efectos de no hacerlo. \n",
    "\n",
    "* La ventana seleccionada se divide en celdas de un determinado tamaño. Dentro de estas celdas se calcularán la magnitud y gradiente por cada píxel. Esta información se almacena en un histograma, donde cada barra representa una dirección y la altura de cada barra es proporcional a las magnitudes de los gradientes próximos o coincidentes con el ángulo representado en la barra. El tamaño de las celdas se define el ```cellSize```, y se escogen celdas cuadradas 4x4. El número de direcciones tomadas en consideración viene definido por el parámetro ```nbins```. \n",
    "\n",
    "* Una vez se han obtenido todos los histogramas, se procede a normalizarlos. Este paso es necesario para convertir al descriptor HOG invariante a cambios en el brillo. Para normalizarlo, se toman en cuenta los histogramas de un conjunto de celdas. La cantidad de celdas incluidas en cada paso de la normalización viene definido por el parámetro ```blockSize```. En este caso, y siguiendo la recomendación encontrada en diferentes fuentes, se escoge un tamaño el doble de la celdas. Así pues, cada bloque engloba 4 celdas, es decir, 4 histogramas. Para normalizar, se concatenan los histogramas en un solo vector y se divide cada componente de este por el módulo del histograma concatenado. Esto es igual forma que sucede con los vectores normales. \n",
    "* Finalmente, este bloque de normalización se va deslizando por la imagen hasta haberla recorrido entera. Para ello tiene que definirse el paso en número de píxeles que realiza cada vez. En este caso se establece que dicho bloque se mueva 4 píxeles a la derecha y 4 píxeles hacia abajo. Es decir, el tamaño de una celda. \n",
    "* El resto de parámetros se deja por defecto. Entre estos cabe destacar el ```signedGradients``` donde se indica si se tiene en cuenta los signos en la dirección del gradiente. Al establecerlo como ```False```, se está indicando que un gradiente con dirección 0 grados y otro de 180 grados poseen la misma dirección. "
   ]
  },
  {
   "cell_type": "markdown",
   "metadata": {},
   "source": [
    "Se incicializa el objeto que permitirá calcular el HOG de cada imagen."
   ]
  },
  {
   "cell_type": "code",
   "execution_count": 17,
   "metadata": {},
   "outputs": [],
   "source": [
    "# Parámetros ajustados al tamaño de la imagen de entrada\n",
    "winSize = (width, height) \n",
    "blockSize = (8,8) # el doble que el tamaño de la celda\n",
    "blockStride = (4,4)\n",
    "cellSize = (4,4)\n",
    "nbins = 9\n",
    "# Parámetros por defecto\n",
    "derivAperture = 1\n",
    "winSigma = -1.\n",
    "histogramNormType = 0\n",
    "L2HysThreshold = 0.2\n",
    "gammaCorrection = 1\n",
    "nlevels = 64\n",
    "signedGradients = False\n",
    "\n",
    "#Se inicializa el objeto HOG\n",
    "hog = cv2.HOGDescriptor(winSize,blockSize,blockStride,cellSize,nbins,\n",
    "                        derivAperture,winSigma,histogramNormType,L2HysThreshold,\n",
    "                        gammaCorrection,nlevels, signedGradients)"
   ]
  },
  {
   "cell_type": "markdown",
   "metadata": {},
   "source": [
    "Se realiza una prueba rápida para comprobar el vector resultante (o histograma) es coherente con el número de dimensiones esperado. "
   ]
  },
  {
   "cell_type": "code",
   "execution_count": 18,
   "metadata": {},
   "outputs": [],
   "source": [
    "hog_prueba = hog.compute(X_train[0])"
   ]
  },
  {
   "cell_type": "code",
   "execution_count": 19,
   "metadata": {},
   "outputs": [
    {
     "data": {
      "text/plain": [
       "(1296, 1)"
      ]
     },
     "execution_count": 19,
     "metadata": {},
     "output_type": "execute_result"
    }
   ],
   "source": [
    "hog_prueba.shape"
   ]
  },
  {
   "cell_type": "markdown",
   "metadata": {},
   "source": [
    "Sale razonable, ya que tenemos histogramas de 9x1 por cada celda 4x4, es decir en cada bloque 8x8 tenemos un histograma 36x1. Hay 6 posiciones horizontales para los bloques 8x8, y 6 verticales; en total 36 posiciones. Así pues el vector o histograma resultante tiene que tener dimensión 36x36 = 1296x1."
   ]
  },
  {
   "cell_type": "markdown",
   "metadata": {},
   "source": [
    "Se prodecen a calcular los HOG por cada conjunto de imágenes. Los resultados se almacenarán en matrices donde cada fila corresponderá con una imagen distinta."
   ]
  },
  {
   "cell_type": "markdown",
   "metadata": {},
   "source": [
    "Para la obtención del HOG se hace uso de la función ```hog.compute()```"
   ]
  },
  {
   "cell_type": "markdown",
   "metadata": {},
   "source": [
    "#### Conjunto de entrenamiento"
   ]
  },
  {
   "cell_type": "code",
   "execution_count": 24,
   "metadata": {},
   "outputs": [],
   "source": [
    "hog_train = np.zeros((train_size, 1296))\n",
    "i=0\n",
    "\n",
    "for img3 in X_train: \n",
    "    hog_train[i] = np.reshape(hog.compute(img3), (1296,))\n",
    "    i+=1"
   ]
  },
  {
   "cell_type": "markdown",
   "metadata": {},
   "source": [
    "#### Conjunto de test"
   ]
  },
  {
   "cell_type": "code",
   "execution_count": 25,
   "metadata": {},
   "outputs": [],
   "source": [
    "hog_test = np.zeros((test_size, 1296))\n",
    "i=0\n",
    "\n",
    "for img4 in X_test: \n",
    "    hog_test[i] = np.reshape(hog.compute(img4),(1296,))\n",
    "    i+=1"
   ]
  },
  {
   "cell_type": "markdown",
   "metadata": {},
   "source": [
    "## Clasificación con K-Nearest Neighbours "
   ]
  },
  {
   "cell_type": "markdown",
   "metadata": {},
   "source": [
    "En esta última parte se entrena un algoritmo KNN para posteriormente clasificar el conjunto de imágenes de test. Para ello, se van a emplear los tres descriptores por separado y comparar cuál funciona mejor. Además se usan distintas distancias para correr el algoritmo KNN y comprobar la influencia de estas. Como métricas para la evaluación de los modelos se emplea el _accuracy_ , la precisión, el _recall_ y la _f1_. Así se obtiene una visión un poco más completa del funcionamiento del modelo que solo empleando el _accuracy_ . Finalmente también se dibujarán las tablas de confusión. "
   ]
  },
  {
   "cell_type": "markdown",
   "metadata": {},
   "source": [
    "Primero de todo se importan las librerías necesarias. "
   ]
  },
  {
   "cell_type": "code",
   "execution_count": 26,
   "metadata": {},
   "outputs": [],
   "source": [
    "import math\n",
    "from sklearn import  metrics\n",
    "from sklearn.neighbors import KNeighborsClassifier"
   ]
  },
  {
   "cell_type": "markdown",
   "metadata": {},
   "source": [
    "A continuación se definen distintos métodos para el cálculo de distancias entre histogramas. Es cierto que OpenCV posee el método ```compareHist()``` para dichos cálculos. Sin embargo, en este caso esta función daba problemas al emplearla con los datos tal y como se disponen. Se sospecha que existe algún problema con el formato en el que se almacenan, ya que dicha función si que funciona cuando se le introduce el histograma directamente resultante de la función ```hog.compute()```, como se verá más adelante.\n",
    "\n",
    "Nótese también que se ha evitado el uso de bucles ```for``` o similares, lo cual ralentizaría mucho la ejecución de estas funciones y, por lo tanto, el entrenamiento y la clasificación (esto se ha comprobado)."
   ]
  },
  {
   "cell_type": "markdown",
   "metadata": {},
   "source": [
    "#### Correlación entre histogramas"
   ]
  },
  {
   "cell_type": "markdown",
   "metadata": {},
   "source": [
    "Esta es una medida de similaritud, no de disimilaritud como la distancia. Es por ello que lo más probable es que funcione mal con el algoritmo KNN, el cual emplea métricas de disimilaritud. Sin embargo, quería comprobarse qué pasaba al usar la correlación. "
   ]
  },
  {
   "cell_type": "code",
   "execution_count": 33,
   "metadata": {},
   "outputs": [],
   "source": [
    "def distCorr (h1, h2): \n",
    "    h1_mean = np.mean(h1)\n",
    "    h2_mean = np.mean(h2)\n",
    "    \n",
    "    num = 0\n",
    "    den = 0\n",
    "    \n",
    "    h1_zero = h1 - h1_mean\n",
    "    h2_zero = h2 - h2_mean\n",
    "    \n",
    "    h1_h2_zero = np.multiply(h1_zero,h2_zero)\n",
    "    num = np.sum(h1_h2_zero)\n",
    "    \n",
    "    h1_zero_sq = np.sum(np.square(h1_zero))\n",
    "    h2_zero_sq = np.sum(np.square(h2_zero))\n",
    "    \n",
    "    den = math.sqrt(h1_zero_sq*h2_zero_sq)\n",
    "        \n",
    "    return num/den"
   ]
  },
  {
   "cell_type": "markdown",
   "metadata": {},
   "source": [
    "#### Distancia de Bhattacharyya"
   ]
  },
  {
   "cell_type": "code",
   "execution_count": 28,
   "metadata": {},
   "outputs": [],
   "source": [
    "def distBhatt (h1, h2): \n",
    "    h1_mean = np.mean(h1)\n",
    "    h2_mean = np.mean(h2)\n",
    "    bins = h1.shape[0]\n",
    "    \n",
    "    summ = 0\n",
    "    \n",
    "    h1_sqrt = np.sqrt(h1)\n",
    "    h2_sqrt = np.sqrt(h2)\n",
    "    h1_h2 = np.multiply(h1_sqrt, h2_sqrt)\n",
    "    num = np.sum(h1_h2)\n",
    "    \n",
    "    \n",
    "    scale = 1/(math.sqrt(h1_mean*h2_mean*(bins**2)))\n",
    "    \n",
    "    return math.sqrt(1-scale*num)"
   ]
  },
  {
   "cell_type": "markdown",
   "metadata": {},
   "source": [
    "#### Distancia Chi Square"
   ]
  },
  {
   "cell_type": "markdown",
   "metadata": {},
   "source": [
    "En esta distancia tuvo que hacerse una pequeña modificación. Y es que, al incluir una división por cada valor del ```h1``` (histograma número 1), puede darse una división por cero si este posee elementos con dicho valor. Por eso, para evitar el error, se establece que dichas divisiones devuelvan un valor 0.\n",
    "\n",
    "Un valor de cero en los HOG equivaldría a que el ángulo de ningún gradiente en alguna celda recae en un determinado intervalo de valores angulares, por lo que no contribuye a alguno de los bins del histograma. En cuanto al GLCM, basta con que no se de una determinada combinación de valores de gris en la imagen, lo cual viendo las imágenes que se tienen (escasa variabilidad en los valores de gris), no es raro que suceda. "
   ]
  },
  {
   "cell_type": "code",
   "execution_count": 29,
   "metadata": {},
   "outputs": [],
   "source": [
    "def chiSquare (h1,h2): \n",
    "    #elimino los ceros para no causar un error al dividir por cero.\n",
    "    #Esto es lo mismo que decir que la división por cero devuelve un 0\n",
    "    index = np.nonzero(h1) \n",
    "    h1 = h1[index]\n",
    "    h2 = h2[index]\n",
    "    chi_dist = np.sum(np.divide(np.square(h1 - h2),h1))\n",
    "       \n",
    "    return chi_dist"
   ]
  },
  {
   "cell_type": "markdown",
   "metadata": {},
   "source": [
    "A continuación se realizan una pequeñas pruebas para cerciorarse de que estas funciones definidas devuelven los mismos valores que la definida por OpenCV y, por lo tanto, de que funcionan bien. Nótese que OpenCV sí funciona con los histogramas devueltos directamente por la función ```hog.compute()```\n"
   ]
  },
  {
   "cell_type": "markdown",
   "metadata": {},
   "source": [
    "La correlación:"
   ]
  },
  {
   "cell_type": "code",
   "execution_count": 31,
   "metadata": {},
   "outputs": [
    {
     "data": {
      "text/plain": [
       "0.473249955338702"
      ]
     },
     "execution_count": 31,
     "metadata": {},
     "output_type": "execute_result"
    }
   ],
   "source": [
    "cv2.compareHist(hog.compute(X_train[0]), hog.compute(X_train[1]), cv2.HISTCMP_CORREL)"
   ]
  },
  {
   "cell_type": "code",
   "execution_count": 34,
   "metadata": {
    "scrolled": true
   },
   "outputs": [
    {
     "data": {
      "text/plain": [
       "0.4732499553387017"
      ]
     },
     "execution_count": 34,
     "metadata": {},
     "output_type": "execute_result"
    }
   ],
   "source": [
    "distCorr(hog_train[0], hog_train[1])"
   ]
  },
  {
   "cell_type": "markdown",
   "metadata": {},
   "source": [
    "La distancia de Bhattacharyya:"
   ]
  },
  {
   "cell_type": "code",
   "execution_count": 35,
   "metadata": {},
   "outputs": [
    {
     "data": {
      "text/plain": [
       "0.5355728311061186"
      ]
     },
     "execution_count": 35,
     "metadata": {},
     "output_type": "execute_result"
    }
   ],
   "source": [
    "cv2.compareHist(hog.compute(X_train[0]), hog.compute(X_train[1]), cv2.HISTCMP_BHATTACHARYYA)"
   ]
  },
  {
   "cell_type": "code",
   "execution_count": 36,
   "metadata": {},
   "outputs": [
    {
     "data": {
      "text/plain": [
       "0.5355728311061186"
      ]
     },
     "execution_count": 36,
     "metadata": {},
     "output_type": "execute_result"
    }
   ],
   "source": [
    "distBhatt (hog_train[0], hog_train[1])"
   ]
  },
  {
   "cell_type": "markdown",
   "metadata": {},
   "source": [
    "Antes de comprobar la de Chi Square, se quiere también verificar que la división por cero en OpenCV devuelve 0. Por ello primero se comprueba si el ```h1```, en este caso el ```hog_train[0]``` posee algún 0 que provoque esta situación. "
   ]
  },
  {
   "cell_type": "code",
   "execution_count": 40,
   "metadata": {
    "scrolled": true
   },
   "outputs": [
    {
     "name": "stdout",
     "output_type": "stream",
     "text": [
      "True\n"
     ]
    }
   ],
   "source": [
    "if 0 in hog_train[0]:\n",
    "    print(True)\n",
    "else: \n",
    "    print(False)"
   ]
  },
  {
   "cell_type": "code",
   "execution_count": 41,
   "metadata": {},
   "outputs": [
    {
     "data": {
      "text/plain": [
       "1028.531698757623"
      ]
     },
     "execution_count": 41,
     "metadata": {},
     "output_type": "execute_result"
    }
   ],
   "source": [
    "cv2.compareHist(hog.compute(X_train[0]), hog.compute(X_train[1]), cv2.HISTCMP_CHISQR)"
   ]
  },
  {
   "cell_type": "code",
   "execution_count": 39,
   "metadata": {
    "scrolled": true
   },
   "outputs": [
    {
     "data": {
      "text/plain": [
       "1028.5317109707232"
      ]
     },
     "execution_count": 39,
     "metadata": {},
     "output_type": "execute_result"
    }
   ],
   "source": [
    "chiSquare(hog_train[0], hog_train[1])"
   ]
  },
  {
   "cell_type": "markdown",
   "metadata": {},
   "source": [
    "Se observa que todas ellas funcionan bien. Ya se puede proceder a realizar la clasificación."
   ]
  },
  {
   "cell_type": "markdown",
   "metadata": {},
   "source": [
    "## Usando las medidas obtenidas a partir del GLCM"
   ]
  },
  {
   "cell_type": "markdown",
   "metadata": {},
   "source": [
    "#### Solo con las 4 primeras medidas de textura\n",
    "\n",
    "Primero se emplean solo las 4 primeras medidas para posteriormente comparar con el uso de todas ellas. "
   ]
  },
  {
   "cell_type": "markdown",
   "metadata": {},
   "source": [
    "El clasificador se incializa a sus valores por defecto, entre los cuales son de interés el número de vecinos (5 vecinos) y la distancia empleada (la Euclídea). "
   ]
  },
  {
   "cell_type": "code",
   "execution_count": 43,
   "metadata": {},
   "outputs": [],
   "source": [
    "knn_glcm = KNeighborsClassifier() #default parameters\n",
    "\n",
    "knn_glcm = knn_glcm.fit(glcm_params_train[:,0:4], y_train)"
   ]
  },
  {
   "cell_type": "code",
   "execution_count": 44,
   "metadata": {},
   "outputs": [],
   "source": [
    "prediction_glcm = knn_glcm.predict(glcm_params_test[:,0:4])"
   ]
  },
  {
   "cell_type": "markdown",
   "metadata": {},
   "source": [
    "Para las métricas de precisión, _recall_ y _f1_ se computa una media no ponderada por cada clase ( ```average = 'macro'```). En este caso no sería necesaria la ponderación por clases ya que todas ellas tiene misma representación en el conjunto de test. Por otra parte, al tratarse de una media, resulta un poco complicado realizar conclusiones sobre el comportamiento del algoritmo por cada una de clases (en lo que respecta a estas métricas). "
   ]
  },
  {
   "cell_type": "code",
   "execution_count": 45,
   "metadata": {},
   "outputs": [
    {
     "name": "stdout",
     "output_type": "stream",
     "text": [
      "Accuracy:  0.435 \n",
      " Precision:  0.43734848097638795 \n",
      " Recall:  0.43499999999999994 \n",
      " F1:  0.4339346171461176\n"
     ]
    }
   ],
   "source": [
    "acc_glcm = metrics.accuracy_score(y_test, prediction_glcm)\n",
    "precision_glcm = metrics.precision_score(y_test, prediction_glcm, average = 'macro')\n",
    "recall_glcm = metrics.recall_score(y_test, prediction_glcm, average = 'macro')\n",
    "f1_glcm = metrics.f1_score(y_test, prediction_glcm, average = 'macro')\n",
    "\n",
    "print ('Accuracy: ', acc_glcm, '\\n',\n",
    "       'Precision: ', precision_glcm,'\\n',\n",
    "       'Recall: ', recall_glcm, '\\n', \n",
    "       'F1: ', f1_glcm)"
   ]
  },
  {
   "cell_type": "code",
   "execution_count": 46,
   "metadata": {
    "scrolled": true
   },
   "outputs": [
    {
     "data": {
      "image/png": "[encoded data removed]",
      "text/plain": [
       "<Figure size 432x288 with 2 Axes>"
      ]
     },
     "metadata": {
      "needs_background": "light"
     },
     "output_type": "display_data"
    }
   ],
   "source": [
    "metrics.plot_confusion_matrix(knn_glcm, glcm_params_test[:,0:4], y_test);"
   ]
  },
  {
   "cell_type": "markdown",
   "metadata": {},
   "source": [
    "#### Observaciones\n",
    "\n",
    "Se aprecia que el clasificador es malo, con todas sus métricas por debajo de 0.5 y muy iguales entre ellas. A ver si empleando más características mejora. "
   ]
  },
  {
   "cell_type": "markdown",
   "metadata": {},
   "source": [
    "#### Con todas las medidas posibles a extraer de la GLCM empleando ```skimage```\n",
    "\n",
    "Se emplea el mismo clasificador instanciado que antes. "
   ]
  },
  {
   "cell_type": "code",
   "execution_count": 47,
   "metadata": {},
   "outputs": [],
   "source": [
    "knn_glcm = knn_glcm.fit(glcm_params_train, y_train)"
   ]
  },
  {
   "cell_type": "code",
   "execution_count": 48,
   "metadata": {},
   "outputs": [],
   "source": [
    "prediction_glcm = knn_glcm.predict(glcm_params_test)"
   ]
  },
  {
   "cell_type": "code",
   "execution_count": 49,
   "metadata": {},
   "outputs": [
    {
     "name": "stdout",
     "output_type": "stream",
     "text": [
      "Accuracy:  0.405 \n",
      " Precision:  0.41467984564907867 \n",
      " Recall:  0.4050000000000001 \n",
      " F1:  0.4054719937837521\n"
     ]
    }
   ],
   "source": [
    "acc_glcm = metrics.accuracy_score(y_test, prediction_glcm)\n",
    "precision_glcm = metrics.precision_score(y_test, prediction_glcm, average = 'macro')\n",
    "recall_glcm = metrics.recall_score(y_test, prediction_glcm, average = 'macro')\n",
    "f1_glcm = metrics.f1_score(y_test, prediction_glcm, average = 'macro')\n",
    "\n",
    "print ('Accuracy: ', acc_glcm, '\\n',\n",
    "       'Precision: ', precision_glcm,'\\n',\n",
    "       'Recall: ', recall_glcm, '\\n', \n",
    "       'F1: ', f1_glcm)"
   ]
  },
  {
   "cell_type": "code",
   "execution_count": 50,
   "metadata": {
    "scrolled": true
   },
   "outputs": [
    {
     "data": {
      "image/png": "[encoded data removed]",
      "text/plain": [
       "<Figure size 432x288 with 2 Axes>"
      ]
     },
     "metadata": {
      "needs_background": "light"
     },
     "output_type": "display_data"
    }
   ],
   "source": [
    "metrics.plot_confusion_matrix(knn_glcm, glcm_params_test, y_test);"
   ]
  },
  {
   "cell_type": "markdown",
   "metadata": {},
   "source": [
    "#### Observaciones\n",
    "\n",
    "Se observa que el hecho de haber incluido el resto de medidas no ha mejorado la clasificación, sino que la ha empeorado ligeramente. \n",
    "\n",
    "En general, podría decirse que en este problema las medidas de textura empleadas no son discriminantes. Este hecho puede deberse a varias razones: \n",
    "* El número de medidas por imagen es muy pequeño. Debido al reducido tamaño de las imágenes, solo puede obtenerse una medida de textura diferente por cada una de ellas. Así, cada imagen queda descrita únicamente por un vector de dimensión 6 (o 4 en el primer caso). \n",
    "* En imágenes de esta naturaleza, donde los niveles de gris no son muy variados ni tampoco hay muchas combinaciones posibles debido al reducido tamaño, las medidas extraídas de la matriz GLCM pueden perder su representabilidad y resultar poco significantes si se quieren captar los matices que de cada imagen. Además, la textura entre artículos puede no cambiar demasiado, y describir estos cambios con un solo valor en las medidas de textura puede ser pedir demasiado.\n",
    "\n",
    "Finalmente mencionar que el hecho de incluir más medidas desemboque en peor clasificación, puede deberse al hecho de que las variables añadidas, la disimilaritud y la ASM, son parecidas al contraste y a la energía (ya añadidas a principio). Por eso, quizás esta información redundante, y más en este tipo de imágenes, puede resultar perjudicial. "
   ]
  },
  {
   "cell_type": "markdown",
   "metadata": {},
   "source": [
    "## Usando los HOG"
   ]
  },
  {
   "cell_type": "markdown",
   "metadata": {},
   "source": [
    "### Empleando como métrica de distancia la correlación "
   ]
  },
  {
   "cell_type": "markdown",
   "metadata": {},
   "source": [
    "Primero de todo se evalúa el KNN con los valores por defecto ya comentados y la métrica de correlación como distancia. "
   ]
  },
  {
   "cell_type": "code",
   "execution_count": 51,
   "metadata": {},
   "outputs": [],
   "source": [
    "knn_hog_corr = KNeighborsClassifier(metric = distCorr) \n",
    "\n",
    "knn_hog_corr = knn_hog_corr.fit(hog_train, y_train)"
   ]
  },
  {
   "cell_type": "code",
   "execution_count": 52,
   "metadata": {},
   "outputs": [],
   "source": [
    "prediction_hog_corr = knn_hog_corr.predict(hog_test)"
   ]
  },
  {
   "cell_type": "code",
   "execution_count": 53,
   "metadata": {},
   "outputs": [
    {
     "name": "stdout",
     "output_type": "stream",
     "text": [
      "Accuracy:  0.015 \n",
      " Precision:  0.008695652173913044 \n",
      " Recall:  0.015 \n",
      " F1:  0.011009174311926604\n"
     ]
    }
   ],
   "source": [
    "acc_hog_corr = metrics.accuracy_score(y_test, prediction_hog_corr)\n",
    "precision_hog_corr = metrics.precision_score(y_test, prediction_hog_corr, average = 'macro') \n",
    "recall_hog_corr = metrics.recall_score(y_test, prediction_hog_corr, average = 'macro')\n",
    "f1_hog_corr = metrics.f1_score(y_test, prediction_hog_corr, average= 'macro')\n",
    "\n",
    "print ('Accuracy: ', acc_hog_corr, '\\n',\n",
    "       'Precision: ', precision_hog_corr,'\\n',\n",
    "       'Recall: ', recall_hog_corr, '\\n', \n",
    "       'F1: ', f1_hog_corr)"
   ]
  },
  {
   "cell_type": "code",
   "execution_count": 54,
   "metadata": {},
   "outputs": [
    {
     "data": {
      "image/png": "[encoded data removed]",
      "text/plain": [
       "<Figure size 432x288 with 2 Axes>"
      ]
     },
     "metadata": {
      "needs_background": "light"
     },
     "output_type": "display_data"
    }
   ],
   "source": [
    "metrics.plot_confusion_matrix(knn_hog_corr, hog_test, y_test);"
   ]
  },
  {
   "cell_type": "markdown",
   "metadata": {},
   "source": [
    "#### Observaciones\n",
    "\n",
    "Tal y como se esperaba, funciona mal, ya que el KNN funciona con métricas de disimilaritud. "
   ]
  },
  {
   "cell_type": "markdown",
   "metadata": {},
   "source": [
    "### Empleando como métrica de distancia la de Bhattacharyya. "
   ]
  },
  {
   "cell_type": "code",
   "execution_count": 55,
   "metadata": {},
   "outputs": [],
   "source": [
    "knn_hog_bhat = KNeighborsClassifier(metric = distBhatt)\n",
    "\n",
    "knn_hog_bhat = knn_hog_bhat.fit(hog_train, y_train)"
   ]
  },
  {
   "cell_type": "code",
   "execution_count": 56,
   "metadata": {},
   "outputs": [],
   "source": [
    "prediction_hog_bhat = knn_hog_bhat.predict(hog_test)"
   ]
  },
  {
   "cell_type": "code",
   "execution_count": 57,
   "metadata": {},
   "outputs": [
    {
     "name": "stdout",
     "output_type": "stream",
     "text": [
      "Accuracy:  0.945 \n",
      " Precision:  0.9481697684880059 \n",
      " Recall:  0.945 \n",
      " F1:  0.944693493028187\n"
     ]
    }
   ],
   "source": [
    "acc_hog_bhat = metrics.accuracy_score(y_test, prediction_hog_bhat)\n",
    "precision_hog_bhat = metrics.precision_score(y_test, prediction_hog_bhat, average = 'macro') \n",
    "recall_hog_bhat = metrics.recall_score(y_test, prediction_hog_bhat, average = 'macro')\n",
    "f1_hog_bhat = metrics.f1_score(y_test, prediction_hog_bhat, average = 'macro')\n",
    "\n",
    "print ('Accuracy: ', acc_hog_bhat, '\\n',\n",
    "       'Precision: ', precision_hog_bhat,'\\n',\n",
    "       'Recall: ', recall_hog_bhat, '\\n', \n",
    "       'F1: ', f1_hog_bhat)"
   ]
  },
  {
   "cell_type": "code",
   "execution_count": 58,
   "metadata": {
    "scrolled": true
   },
   "outputs": [
    {
     "data": {
      "image/png": "[encoded data removed]",
      "text/plain": [
       "<Figure size 432x288 with 2 Axes>"
      ]
     },
     "metadata": {
      "needs_background": "light"
     },
     "output_type": "display_data"
    }
   ],
   "source": [
    "metrics.plot_confusion_matrix(knn_hog_bhat, hog_test, y_test);"
   ]
  },
  {
   "cell_type": "markdown",
   "metadata": {},
   "source": [
    "#### Observaciones\n",
    "\n",
    "Se comprueba que en este caso la clasificación es muy buena, con una _accuracy_ cerca del 95%. Este buen resultado podría atribuirse a que el HOG se \"centra\" en la forma que posee el objeto en la imagen, en esencia sus bordes. Uno puede concluir, observando visualmente los datos, que este factor resulta mucho más discriminante que la textura presente en las imágenes. Y eso se refleja en los resultados también. Por otra parte, el HOG permite describir la imagen con mayor definición que las medidas anteriores, ya que el histograma de cada imagen cuenta con una dimensión igual a 1296 valores. Sin embargo, hay que tener en cuenta que muchos de estos podrían ser ceros. "
   ]
  },
  {
   "cell_type": "markdown",
   "metadata": {},
   "source": [
    "### Distancia Chi Square"
   ]
  },
  {
   "cell_type": "code",
   "execution_count": 59,
   "metadata": {},
   "outputs": [],
   "source": [
    "knn_hog_chi = KNeighborsClassifier(metric = chiSquare)\n",
    "\n",
    "knn_hog_chi = knn_hog_chi.fit(hog_train, y_train)"
   ]
  },
  {
   "cell_type": "code",
   "execution_count": 60,
   "metadata": {},
   "outputs": [],
   "source": [
    "prediction_hog_chi = knn_hog_chi.predict(hog_test)"
   ]
  },
  {
   "cell_type": "code",
   "execution_count": 61,
   "metadata": {},
   "outputs": [
    {
     "name": "stdout",
     "output_type": "stream",
     "text": [
      "Accuracy:  0.645 \n",
      " Precision:  0.7190560938179986 \n",
      " Recall:  0.645 \n",
      " F1:  0.6279916073732874\n"
     ]
    }
   ],
   "source": [
    "acc_hog_chi = metrics.accuracy_score(y_test, prediction_hog_chi)\n",
    "precision_hog_chi = metrics.precision_score(y_test, prediction_hog_chi, average = 'macro') \n",
    "recall_hog_chi = metrics.recall_score(y_test, prediction_hog_chi, average = 'macro')\n",
    "f1_hog_chi = metrics.f1_score(y_test, prediction_hog_chi, average = 'macro')\n",
    "\n",
    "print ('Accuracy: ', acc_hog_chi, '\\n',\n",
    "       'Precision: ', precision_hog_chi,'\\n',\n",
    "       'Recall: ', recall_hog_chi, '\\n', \n",
    "       'F1: ', f1_hog_chi)"
   ]
  },
  {
   "cell_type": "code",
   "execution_count": 62,
   "metadata": {},
   "outputs": [
    {
     "data": {
      "image/png": "[encoded data removed]",
      "text/plain": [
       "<Figure size 432x288 with 2 Axes>"
      ]
     },
     "metadata": {
      "needs_background": "light"
     },
     "output_type": "display_data"
    }
   ],
   "source": [
    "metrics.plot_confusion_matrix(knn_hog_chi, hog_test, y_test);"
   ]
  },
  {
   "cell_type": "markdown",
   "metadata": {},
   "source": [
    "#### Observaciones\n",
    "\n",
    "Parece que la distancia de Bhattacharyya funciona bastante mejor en este caso que la Chi Square."
   ]
  },
  {
   "cell_type": "markdown",
   "metadata": {},
   "source": [
    "### Empleando como métrica de distancia la Euclídea"
   ]
  },
  {
   "cell_type": "markdown",
   "metadata": {},
   "source": [
    "En este caso se emplea la distancia Euclídea. Esta toma los histogramas como vectores numéricos normales a la hora del cálculo."
   ]
  },
  {
   "cell_type": "code",
   "execution_count": 63,
   "metadata": {},
   "outputs": [],
   "source": [
    "knn_hog_eu = KNeighborsClassifier() #default parameters\n",
    "\n",
    "knn_hog_eu = knn_hog_eu.fit(hog_train, y_train)"
   ]
  },
  {
   "cell_type": "code",
   "execution_count": 64,
   "metadata": {},
   "outputs": [],
   "source": [
    "prediction_hog_eu = knn_hog_eu.predict(hog_test)"
   ]
  },
  {
   "cell_type": "code",
   "execution_count": 65,
   "metadata": {},
   "outputs": [
    {
     "name": "stdout",
     "output_type": "stream",
     "text": [
      "Accuracy:  0.935 \n",
      " Precision:  0.9395877774456778 \n",
      " Recall:  0.9349999999999999 \n",
      " F1:  0.9347415058513565\n"
     ]
    }
   ],
   "source": [
    "acc_hog_eu = metrics.accuracy_score(y_test, prediction_hog_eu)\n",
    "precision_hog_eu = metrics.precision_score(y_test, prediction_hog_eu, average = 'macro') \n",
    "recall_hog_eu = metrics.recall_score(y_test, prediction_hog_eu, average = 'macro')\n",
    "f1_hog_eu = metrics.f1_score(y_test, prediction_hog_eu, average = 'macro')\n",
    "\n",
    "print ('Accuracy: ', acc_hog_eu, '\\n',\n",
    "       'Precision: ', precision_hog_eu,'\\n',\n",
    "       'Recall: ', recall_hog_eu, '\\n', \n",
    "       'F1: ', f1_hog_eu)"
   ]
  },
  {
   "cell_type": "code",
   "execution_count": 66,
   "metadata": {
    "scrolled": true
   },
   "outputs": [
    {
     "data": {
      "image/png": "[encoded data removed]",
      "text/plain": [
       "<Figure size 432x288 with 2 Axes>"
      ]
     },
     "metadata": {
      "needs_background": "light"
     },
     "output_type": "display_data"
    }
   ],
   "source": [
    "metrics.plot_confusion_matrix(knn_hog_eu, hog_test, y_test);"
   ]
  },
  {
   "cell_type": "markdown",
   "metadata": {},
   "source": [
    "#### Observaciones\n",
    "\n",
    "La distancia Euclídea permite una clasificación muy semejante, pero no mejor, a cuando se emplea la distancia de Bhattacharyya."
   ]
  },
  {
   "cell_type": "markdown",
   "metadata": {},
   "source": [
    "## Usando los histogramas GLCM"
   ]
  },
  {
   "cell_type": "markdown",
   "metadata": {},
   "source": [
    "Antes de alimentar el KNN con los histograma GLCM, hay que ponerlos en el formato adecuado para el cálculo de distancias. Estos histogramas están almacenados en forma de matriz 256x256. Únicamente se procede a aplanarlos a una sola dimensión, tal y como los HOG. "
   ]
  },
  {
   "cell_type": "code",
   "execution_count": 67,
   "metadata": {},
   "outputs": [],
   "source": [
    "def flatten_glcm (glcm): \n",
    "    out = np.zeros((glcm.shape[0],glcm.shape[1]*glcm.shape[2]))\n",
    "    i = 0\n",
    "    for mat in glcm: \n",
    "        out[i] = mat.flatten()\n",
    "        i += 1\n",
    "    return out"
   ]
  },
  {
   "cell_type": "code",
   "execution_count": 68,
   "metadata": {},
   "outputs": [],
   "source": [
    "glcm_train_flat = flatten_glcm(glcm_train)\n",
    "glcm_test_flat = flatten_glcm(glcm_test)"
   ]
  },
  {
   "cell_type": "markdown",
   "metadata": {},
   "source": [
    "Se comprueba que tienen las dimensiones correctas. "
   ]
  },
  {
   "cell_type": "code",
   "execution_count": 71,
   "metadata": {},
   "outputs": [
    {
     "data": {
      "text/plain": [
       "((1000, 65536), (200, 65536))"
      ]
     },
     "execution_count": 71,
     "metadata": {},
     "output_type": "execute_result"
    }
   ],
   "source": [
    "glcm_train_flat.shape, glcm_test_flat.shape"
   ]
  },
  {
   "cell_type": "markdown",
   "metadata": {},
   "source": [
    "#### Observación\n",
    "\n",
    "Antes de todo mencionar que debido a la alta dimensionalidad de los histogramas GLCM, el tiempo de cómputo de las distancias son mayores, y por lo tanto el tiempo de entrenamiento y test. "
   ]
  },
  {
   "cell_type": "markdown",
   "metadata": {},
   "source": [
    "### Empleando como métrica de distancia la de Bhattacharyya"
   ]
  },
  {
   "cell_type": "code",
   "execution_count": 72,
   "metadata": {},
   "outputs": [],
   "source": [
    "knn_glcm_bhat = KNeighborsClassifier(metric = distBhatt)\n",
    "\n",
    "knn_glcm_bhat = knn_glcm_bhat.fit(glcm_train_flat, y_train)"
   ]
  },
  {
   "cell_type": "code",
   "execution_count": 73,
   "metadata": {},
   "outputs": [],
   "source": [
    "prediction_glcm_bhat = knn_glcm_bhat.predict(glcm_test_flat)"
   ]
  },
  {
   "cell_type": "code",
   "execution_count": 74,
   "metadata": {},
   "outputs": [
    {
     "name": "stdout",
     "output_type": "stream",
     "text": [
      "Accuracy:  0.235 \n",
      " Precision:  0.2777807486631016 \n",
      " Recall:  0.23500000000000001 \n",
      " F1:  0.13104013705335293\n"
     ]
    },
    {
     "name": "stderr",
     "output_type": "stream",
     "text": [
      "/Users/MarcBalle/opt/anaconda3/envs/visio_per_computador/lib/python3.6/site-packages/sklearn/metrics/_classification.py:1221: UndefinedMetricWarning: Precision is ill-defined and being set to 0.0 in labels with no predicted samples. Use `zero_division` parameter to control this behavior.\n",
      "  _warn_prf(average, modifier, msg_start, len(result))\n"
     ]
    }
   ],
   "source": [
    "acc_glcm_bhat = metrics.accuracy_score(y_test, prediction_glcm_bhat)\n",
    "precision_glcm_bhat = metrics.precision_score(y_test, prediction_glcm_bhat, average = 'macro') \n",
    "recall_glcm_bhat = metrics.recall_score(y_test, prediction_glcm_bhat, average = 'macro')\n",
    "f1_glcm_bhat = metrics.f1_score(y_test, prediction_glcm_bhat, average = 'macro')\n",
    "\n",
    "print ('Accuracy: ', acc_glcm_bhat, '\\n',\n",
    "       'Precision: ', precision_glcm_bhat,'\\n',\n",
    "       'Recall: ', recall_glcm_bhat, '\\n', \n",
    "       'F1: ', f1_glcm_bhat)"
   ]
  },
  {
   "cell_type": "code",
   "execution_count": 75,
   "metadata": {},
   "outputs": [
    {
     "data": {
      "image/png": "[encoded data removed]",
      "text/plain": [
       "<Figure size 432x288 with 2 Axes>"
      ]
     },
     "metadata": {
      "needs_background": "light"
     },
     "output_type": "display_data"
    }
   ],
   "source": [
    "metrics.plot_confusion_matrix(knn_glcm_bhat, glcm_test_flat, y_test);"
   ]
  },
  {
   "cell_type": "markdown",
   "metadata": {},
   "source": [
    "#### Observaciones\n",
    "\n",
    "A diferencia de los histogramas HOG con la distancia de Bhattacharyya, los resultados con los GLCM son mucho peores. A priori, uno podría pensar dada la alta dimensionalidad de los vectores, la decripción de las imágenes es muy buena. No obstante, existe una alta cantidad de ceros en estos histogramas, ya que muchas combinaciones de niveles de gris no se dan en estas imágenes. Ello podría ser la causa de esta pésima clasificación. Sin embargo, los resultados con la siguiente distancia pueden invalidar en cierta forma esta asunción. \n",
    "\n",
    "Como puede verse la columna 2 (etiqueta 1) y la 4 (etiqueta 7) de la _predicted label_ son todo ceros, lo que significa que tanto ``tp`` (verdaderos positivos) como ``fp`` (falsos positivos) son iguales a 0. Es por ello que en el cálculo de la precisión ha saltado un mensaje advirtiendo que existe división por cero, ya que el denominador de la precisión se constituye de la suma de ambos términos. "
   ]
  },
  {
   "cell_type": "markdown",
   "metadata": {},
   "source": [
    "### Empleando como métrica de distancia la Chi-square"
   ]
  },
  {
   "cell_type": "code",
   "execution_count": 76,
   "metadata": {},
   "outputs": [],
   "source": [
    "knn_glcm_chi = KNeighborsClassifier(metric = chiSquare)\n",
    "\n",
    "knn_glcm_chi = knn_glcm_chi.fit(glcm_train_flat, y_train)"
   ]
  },
  {
   "cell_type": "code",
   "execution_count": 77,
   "metadata": {},
   "outputs": [],
   "source": [
    "prediction_glcm_chi = knn_glcm_chi.predict(glcm_test_flat)"
   ]
  },
  {
   "cell_type": "code",
   "execution_count": 78,
   "metadata": {},
   "outputs": [
    {
     "name": "stdout",
     "output_type": "stream",
     "text": [
      "Accuracy:  0.76 \n",
      " Precision:  0.7606875492513792 \n",
      " Recall:  0.76 \n",
      " F1:  0.7491321939340467\n"
     ]
    }
   ],
   "source": [
    "acc_glcm_chi = metrics.accuracy_score(y_test, prediction_glcm_chi)\n",
    "precision_glcm_chi = metrics.precision_score(y_test, prediction_glcm_chi, average = 'macro') \n",
    "recall_glcm_chi = metrics.recall_score(y_test, prediction_glcm_chi, average = 'macro')\n",
    "f1_glcm_chi = metrics.f1_score(y_test, prediction_glcm_chi, average = 'macro')\n",
    "\n",
    "print ('Accuracy: ', acc_glcm_chi, '\\n',\n",
    "       'Precision: ', precision_glcm_chi,'\\n',\n",
    "       'Recall: ', recall_glcm_chi, '\\n', \n",
    "       'F1: ', f1_glcm_chi)"
   ]
  },
  {
   "cell_type": "code",
   "execution_count": 79,
   "metadata": {},
   "outputs": [
    {
     "data": {
      "image/png": "[encoded data removed]",
      "text/plain": [
       "<Figure size 432x288 with 2 Axes>"
      ]
     },
     "metadata": {
      "needs_background": "light"
     },
     "output_type": "display_data"
    }
   ],
   "source": [
    "metrics.plot_confusion_matrix(knn_glcm_chi, glcm_test_flat, y_test);"
   ]
  },
  {
   "cell_type": "markdown",
   "metadata": {},
   "source": [
    "#### Observaciones\n",
    "\n",
    "Como se comentaba en el anterio caso, los resultados empleando esta distancia son buenos. Así pues, podría decirse que el hecho de que haya tantos ceros en histograma GLCM, y por lo tanto una menor capacidad descriptiva de la imagen, no influye tantísimo como se esperaba observando los valores de las anteriores métricas. Aún así son resultados peores que empleando los histogramas HOG. De nuevo, se vuelve a recalcar la idea de que las combinaciones de niveles de gris posibles entre clases no son tan diferentes como la forma de los objetos. Es por ello que es de esperar que el descriptor HOG proporcione una mayor capacidad discriminatoria que las GLCM. \n",
    "\n",
    "Por otra parte, sí que resulta mucho mejor en este caso emplear directamente los histogramas GLCM que las medidas de texturas, las cuales, por la poca cantidad de valores que se tienen de cada una de ellas por imagen, resultan insuficientes. "
   ]
  },
  {
   "cell_type": "markdown",
   "metadata": {},
   "source": [
    "### Empleando como métrica de distancia la Euclídea"
   ]
  },
  {
   "cell_type": "code",
   "execution_count": 80,
   "metadata": {},
   "outputs": [],
   "source": [
    "knn_glcm_eu = KNeighborsClassifier() #default parameters\n",
    "\n",
    "knn_glcm_eu = knn_glcm_eu.fit(glcm_train_flat, y_train)"
   ]
  },
  {
   "cell_type": "code",
   "execution_count": 81,
   "metadata": {},
   "outputs": [],
   "source": [
    "prediction_glcm_eu = knn_glcm_eu.predict(glcm_test_flat)"
   ]
  },
  {
   "cell_type": "code",
   "execution_count": 82,
   "metadata": {},
   "outputs": [
    {
     "name": "stdout",
     "output_type": "stream",
     "text": [
      "Accuracy:  0.66 \n",
      " Precision:  0.6510998122653318 \n",
      " Recall:  0.6599999999999999 \n",
      " F1:  0.6518023195609403\n"
     ]
    }
   ],
   "source": [
    "acc_glcm_eu = metrics.accuracy_score(y_test, prediction_glcm_eu)\n",
    "precision_glcm_eu = metrics.precision_score(y_test, prediction_glcm_eu, average = 'macro') \n",
    "recall_glcm_eu = metrics.recall_score(y_test, prediction_glcm_eu, average = 'macro')\n",
    "f1_glcm_eu = metrics.f1_score(y_test, prediction_glcm_eu, average = 'macro')\n",
    "\n",
    "print ('Accuracy: ', acc_glcm_eu, '\\n',\n",
    "       'Precision: ', precision_glcm_eu,'\\n',\n",
    "       'Recall: ', recall_glcm_eu, '\\n', \n",
    "       'F1: ', f1_glcm_eu)"
   ]
  },
  {
   "cell_type": "code",
   "execution_count": 83,
   "metadata": {},
   "outputs": [
    {
     "data": {
      "image/png": "[encoded data removed]",
      "text/plain": [
       "<Figure size 432x288 with 2 Axes>"
      ]
     },
     "metadata": {
      "needs_background": "light"
     },
     "output_type": "display_data"
    }
   ],
   "source": [
    "metrics.plot_confusion_matrix(knn_glcm_eu, glcm_test_flat, y_test);"
   ]
  },
  {
   "cell_type": "markdown",
   "metadata": {},
   "source": [
    "#### Observaciones\n",
    "\n",
    "En este caso se comprueba que la distancia Euclídea funciona peor que la Chi Square, la cual resulta la más apta para este tipo de descriptores en este problema, pero al menos no funciona tan mal como la de Bhattacharyya. "
   ]
  },
  {
   "cell_type": "markdown",
   "metadata": {},
   "source": [
    "## Conclusiones"
   ]
  },
  {
   "cell_type": "markdown",
   "metadata": {},
   "source": [
    "1. Dada la naturaleza de las imágenes del problema, el decriptor que mejor parece discriminar entre artículos es el HOG con una _accuracy_ máxima del 94.5%. Esto puede deberse a que describe la forma del objeto, más que la textura de este, lo cual dado el problema resulta más diferenciador. El segundo mejor descriptor son los histogramas GLCM, alcanzando una _accuracy_ del 76%. Finalmente las medidas de textura proporcionan una clasificación pésima con un _accuracy_ máximo del 43.5% (4 medidas de textura).\n",
    "\n",
    "2. Las distancias empleadas en el algoritmo KNN puede influir enormemente en los resultados. Así pues, para los descriptores HOG la mejor distancia resulta ser la de Bhattacharyya. Para los histogramas GLCM es la distancia Euclídea.\n",
    "\n",
    "3. En este problema, la textura entre distintos artículos puede no cambiar mucho. Esto puede deberse principalmente a la monotonía en los niveles de gris y el reducido tamaño de las imágenes. Podría ser por ello que los decriptores relacionados con la textura funcionan peor en este problema. "
   ]
  }
 ],
 "metadata": {
  "kernelspec": {
   "display_name": "Visio per Computador",
   "language": "python",
   "name": "visio_per_computador"
  },
  "language_info": {
   "codemirror_mode": {
    "name": "ipython",
    "version": 3
   },
   "file_extension": ".py",
   "mimetype": "text/x-python",
   "name": "python",
   "nbconvert_exporter": "python",
   "pygments_lexer": "ipython3",
   "version": "3.6.12"
  }
 },
 "nbformat": 4,
 "nbformat_minor": 4
}
